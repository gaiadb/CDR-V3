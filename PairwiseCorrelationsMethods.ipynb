{
 "cells": [
  {
   "cell_type": "code",
   "execution_count": 8,
   "id": "663e8bc9-9587-4a0a-9ace-ca5c53eb99ce",
   "metadata": {},
   "outputs": [],
   "source": [
    "import io #importing the 'io' module - io module provides a set of tools for working with streams of data. Makes it easuer to work with input and output streams and makes it easier to handle different types of data\n",
    "import os #importing the 'os' module - allows you to perform system-related tasks such as: file and directory operations, working with paths, environment variables, process management, working directory\n",
    "import pandas as pd #importing the Pandas library and giving it the alias 'pd' - Pandas library helps with data manipulation and analysis, simplifies working with structured data\n",
    "import plotly.express as px #loading a specific part of the Plotly library (used to create charts and graphs), alias as px: gives it the nickname px for convenience when creating visualizations\n",
    "import plotly.io as pio #loading the Plotly IO module (used to control how Plotly visualizations are displayed and saved - options include resolution, interactive behavior), alias gives it a simpler name when calling the function\n",
    "import fastparquet #make sure that this is installed in your anaconda environment\n",
    "import numpy as np\n",
    "import statistics as stat\n",
    "import matplotlib.pyplot as plt\n",
    "from scipy import stats\n",
    "import array\n",
    "from IPython.display import display\n",
    "from scipy.stats import zscore\n",
    "import matplotlib.pyplot as plt\n",
    "from sklearn.datasets import make_classification\n",
    "from feature_engine.selection import DropCorrelatedFeatures\n",
    "from scipy.stats import pearsonr, spearmanr\n",
    "from scipy.spatial.distance import cosine"
   ]
  },
  {
   "cell_type": "code",
   "execution_count": 2,
   "id": "c6271cf9-4f2b-4fb1-8197-fa437fef3ba1",
   "metadata": {
    "tags": []
   },
   "outputs": [
    {
     "data": {
      "text/plain": [
       "(382, 717)"
      ]
     },
     "execution_count": 2,
     "metadata": {},
     "output_type": "execute_result"
    }
   ],
   "source": [
    "#loads the file into the label \"data\"\n",
    "filename='/Users/cooperross/Downloads/Captone Project/Coding files/Unconfirmed 561666.crdownload' #edit the filename here for testing other .parquet files\n",
    "\n",
    "data=pd.read_parquet(filename, engine='fastparquet') \n",
    "\n",
    "# REMOVE UNNECESSARY COLUMNS (Ryan's code)\n",
    "data2 = data.loc[:,~data.columns.str.contains('BoundingBox')]\n",
    "data2 = data2.loc[:,~data2.columns.str.contains('Center')]\n",
    "data2 = data2.loc[:,~data2.columns.str.contains('Neighbors')]\n",
    "data2 = data2.loc[:,~data2.columns.str.contains('Location')]\n",
    "data2 = data2.loc[:,~data2.columns.str.contains('Euler')]\n",
    "data2 = data2.loc[:,~data2.columns.str.contains('Manders')]\n",
    "data2 = data2.loc[:,~data2.columns.str.contains('FormFactor')]\n",
    "data2 = data2.loc[:,~data2.columns.str.contains('Count')]\n",
    "data2 = data2.loc[:,~data2.columns.str.contains('Image')]\n",
    "data2 = data2.loc[:,~data2.columns.str.contains('mito_tubeness')]\n",
    "data2 = data2.loc[:,~data2.columns.str.contains('Overflow')]\n",
    "data2 = data2.loc[:,~data2.columns.str.contains('MinIntensity')]\n",
    "\n",
    "#Separate out the metadata columns\n",
    "metadata_cols = data2.loc[:,data2.columns.str.contains('Metadata')]\n",
    "data2 = data2.loc[:,~data2.columns.str.contains('Metadata')]\n",
    "\n",
    "# KEEP ONLY NUMERICAL DATA\n",
    "data_numerical=data2._get_numeric_data() #removing columns that have non quantitiative data\n",
    "\n",
    "# MAD-NORMALIZATION\n",
    "df_normalized = (0.6745 * (data_numerical - data_numerical.median(axis=0))) / stats.median_abs_deviation(data_numerical, axis=0)\n",
    "df_normalized = df_normalized.dropna(axis=1)\n",
    "df_normalized\n",
    "\n",
    "# REMOVE OUTLIERS (Ryan's slides)\n",
    "n_MAD = 500\n",
    "threshold = 0.6745 * n_MAD\n",
    "rows_to_keep = (np.abs(df_normalized) < threshold).all(axis=1)\n",
    "df_normalized = df_normalized[rows_to_keep]\n",
    "df_normalized # \"add in the meta-data\" - sam ???\n",
    "\n",
    "# REMOVE HIGHLY CORRELATED COLUMNS (you will need to pip install feature engine in the conda environment)\n",
    "corrs = DropCorrelatedFeatures(variables=None, method='spearman', threshold=0.90) #set the function to use later (Ryan's code)\n",
    "df_normalized.shape\n",
    "dropped_correlated = corrs.fit_transform(df_normalized)\n",
    "dropped_correlated.shape"
   ]
  },
  {
   "cell_type": "code",
   "execution_count": 3,
   "id": "2e626472-b024-4520-8ded-5ee27ef52a73",
   "metadata": {
    "tags": []
   },
   "outputs": [
    {
     "name": "stdin",
     "output_type": "stream",
     "text": [
      "Enter the row number you'd like to investigate:  333\n"
     ]
    },
    {
     "name": "stdout",
     "output_type": "stream",
     "text": [
      "Original User Input Row: 333\n",
      "Total Quantity of Correlated Rows: 3\n",
      "Correlated Rows with Pearson and Spearman Correlations:\n",
      "Row 142: Pearson Correlation = 0.9656, Spearman Correlation = 0.95552\n",
      "Row 215: Pearson Correlation = 0.94713, Spearman Correlation = 0.88771\n",
      "Row 23: Pearson Correlation = 0.9237, Spearman Correlation = 0.7859\n"
     ]
    }
   ],
   "source": [
    "# FINAL PAIRWISE CORRELATION PROTOTYPE 1 (\"EITHER / OR\" METHOD)\n",
    "def find_correlated_rows(user_input_row):\n",
    "    pearson_correlations = []\n",
    "    spearman_correlations = []\n",
    "    \n",
    "    user_row = df_normalized.iloc[user_input_row]\n",
    "    num_rows = len(df_normalized)\n",
    "    \n",
    "    for i in range(num_rows):\n",
    "        if i != user_input_row:\n",
    "            compared_row = df_normalized.iloc[i]\n",
    "            \n",
    "            pearson_corr, _ = pearsonr(user_row, compared_row)\n",
    "            spearman_corr, _ = spearmanr(user_row, compared_row)\n",
    "            \n",
    "            pearson_correlations.append((i, pearson_corr))\n",
    "            spearman_correlations.append((i, spearman_corr))\n",
    "    \n",
    "    correlated_rows = [(i, p_corr, s_corr) for i, (p_corr, s_corr) in enumerate(zip(pearson_correlations, spearman_correlations)) if abs(p_corr[1]) > 0.9 or abs(s_corr[1]) > 0.9]\n",
    "    \n",
    "    return correlated_rows\n",
    "\n",
    "# Example usage:\n",
    "user_input = int(input(\"Enter the row number you'd like to investigate: \"))\n",
    "correlated_rows = find_correlated_rows(user_input)\n",
    "\n",
    "# Sort by the absolute value of Pearson correlation\n",
    "correlated_rows.sort(key=lambda x: max(abs(x[1][1]), abs(x[2][1])), reverse=True)\n",
    "\n",
    "# Display the results\n",
    "print(f\"Original User Input Row: {user_input}\")\n",
    "print(f\"Total Quantity of Correlated Rows: {len(correlated_rows)}\")\n",
    "print(\"Correlated Rows with Pearson and Spearman Correlations:\")\n",
    "for row_num, pearson_corr, spearman_corr in correlated_rows:\n",
    "    pearson_corr = round(pearson_corr[1], 5)\n",
    "    spearman_corr = round(spearman_corr[1], 5)\n",
    "    print(f\"Row {row_num}: Pearson Correlation = {pearson_corr}, Spearman Correlation = {spearman_corr}\")"
   ]
  },
  {
   "cell_type": "code",
   "execution_count": 4,
   "id": "0376a196-0b9d-4807-93e2-7ca226084e4c",
   "metadata": {
    "tags": []
   },
   "outputs": [
    {
     "name": "stdin",
     "output_type": "stream",
     "text": [
      "Enter the row number you'd like to investigate:  333\n"
     ]
    },
    {
     "name": "stdout",
     "output_type": "stream",
     "text": [
      "Original User Input Row: 333\n",
      "Total Quantity of Correlated Rows: 1\n",
      "Correlated Rows with Pearson and Spearman Correlations:\n",
      "Row 142: Pearson Correlation = 0.9656, Spearman Correlation = 0.95552\n"
     ]
    }
   ],
   "source": [
    "# FINAL PAIRWISE CORRELATION PROTOTYPE 1 (\"AND\" METHOD)\n",
    "def find_correlated_rows(user_input_row):\n",
    "    pearson_correlations = []\n",
    "    spearman_correlations = []\n",
    "    \n",
    "    user_row = df_normalized.iloc[user_input_row]\n",
    "    num_rows = len(df_normalized)\n",
    "    \n",
    "    for i in range(num_rows):\n",
    "        if i != user_input_row:\n",
    "            compared_row = df_normalized.iloc[i]\n",
    "            \n",
    "            pearson_corr, _ = pearsonr(user_row, compared_row)\n",
    "            spearman_corr, _ = spearmanr(user_row, compared_row)\n",
    "            \n",
    "            pearson_correlations.append((i, pearson_corr))\n",
    "            spearman_correlations.append((i, spearman_corr))\n",
    "    \n",
    "    correlated_rows = [(i, p_corr, s_corr) for i, (p_corr, s_corr) in enumerate(zip(pearson_correlations, spearman_correlations)) if abs(p_corr[1]) > 0.9 and abs(s_corr[1]) > 0.9]\n",
    "    \n",
    "    return correlated_rows\n",
    "\n",
    "# Example usage:\n",
    "user_input = int(input(\"Enter the row number you'd like to investigate: \"))\n",
    "correlated_rows = find_correlated_rows(user_input)\n",
    "\n",
    "# Sort by the absolute value of Pearson correlation\n",
    "correlated_rows.sort(key=lambda x: max(abs(x[1][1]), abs(x[2][1])), reverse=True)\n",
    "\n",
    "# Display the results\n",
    "print(f\"Original User Input Row: {user_input}\")\n",
    "print(f\"Total Quantity of Correlated Rows: {len(correlated_rows)}\")\n",
    "print(\"Correlated Rows with Pearson and Spearman Correlations:\")\n",
    "for row_num, pearson_corr, spearman_corr in correlated_rows:\n",
    "    pearson_corr = round(pearson_corr[1], 5)\n",
    "    spearman_corr = round(spearman_corr[1], 5)\n",
    "    print(f\"Row {row_num}: Pearson Correlation = {pearson_corr}, Spearman Correlation = {spearman_corr}\")\n"
   ]
  },
  {
   "cell_type": "code",
   "execution_count": 7,
   "id": "795acca7-7736-4c19-ae90-d12732ec7307",
   "metadata": {
    "tags": []
   },
   "outputs": [
    {
     "name": "stdin",
     "output_type": "stream",
     "text": [
      "Enter the row number you'd like to investigate:  333\n"
     ]
    },
    {
     "name": "stdout",
     "output_type": "stream",
     "text": [
      "Original User Input Row: 333\n",
      "Total Quantity of Correlated Rows: 2\n",
      "Correlated Rows with Pearson and Spearman Correlations:\n",
      "Row 142: Average Correlation = 0.96056, Pearson Correlation = 0.9656, Spearman Correlation = 0.95552\n",
      "Row 215: Average Correlation = 0.91742, Pearson Correlation = 0.94713, Spearman Correlation = 0.88771\n"
     ]
    }
   ],
   "source": [
    "# FINAL PAIRWISE CORRELATION PROTOTYPE 2 (\"AVERAGE\" METHOD)\n",
    "def find_correlated_rows(user_input_row):\n",
    "    pearson_correlations = []\n",
    "    spearman_correlations = []\n",
    "    \n",
    "    user_row = df_normalized.iloc[user_input_row]\n",
    "    num_rows = len(df_normalized)\n",
    "    \n",
    "    for i in range(num_rows):\n",
    "        if i != user_input_row:\n",
    "            compared_row = df_normalized.iloc[i]\n",
    "            \n",
    "            pearson_corr, _ = pearsonr(user_row, compared_row)\n",
    "            spearman_corr, _ = spearmanr(user_row, compared_row)\n",
    "            \n",
    "            pearson_correlations.append((i, pearson_corr))\n",
    "            spearman_correlations.append((i, spearman_corr))\n",
    "    \n",
    "    correlated_rows = [(i, p_corr, s_corr) for i, (p_corr, s_corr) in enumerate(zip(pearson_correlations, spearman_correlations)) if (abs(p_corr[1]) + abs(s_corr[1])) / 2 > 0.9]\n",
    "    \n",
    "    return correlated_rows\n",
    "\n",
    "# Example usage:\n",
    "user_input = int(input(\"Enter the row number you'd like to investigate: \"))\n",
    "correlated_rows = find_correlated_rows(user_input)\n",
    "\n",
    "# Sort by the average of absolute values of Pearson and Spearman correlations\n",
    "correlated_rows.sort(key=lambda x: (abs(x[1][1]) + abs(x[2][1])) / 2, reverse=True)\n",
    "\n",
    "# Display the results\n",
    "print(f\"Original User Input Row: {user_input}\")\n",
    "print(f\"Total Quantity of Correlated Rows: {len(correlated_rows)}\")\n",
    "print(\"Correlated Rows with Pearson and Spearman Correlations:\")\n",
    "for row_num, pearson_corr, spearman_corr in correlated_rows:\n",
    "    avg_corr = round((abs(pearson_corr[1]) + abs(spearman_corr[1])) / 2, 5)\n",
    "    pearson_corr = round(pearson_corr[1], 5)\n",
    "    spearman_corr = round(spearman_corr[1], 5)\n",
    "    print(f\"Row {row_num}: Average Correlation = {avg_corr}, Pearson Correlation = {pearson_corr}, Spearman Correlation = {spearman_corr}\")\n"
   ]
  },
  {
   "cell_type": "code",
   "execution_count": 13,
   "id": "30775639-09fc-4cdf-ac05-46c36feef43e",
   "metadata": {
    "tags": []
   },
   "outputs": [
    {
     "name": "stdin",
     "output_type": "stream",
     "text": [
      "Enter the row number you'd like to investigate:  333\n"
     ]
    },
    {
     "name": "stdout",
     "output_type": "stream",
     "text": [
      "Original User Input Row: 333\n",
      "Total Quantity of Correlated Rows: 3\n",
      "Correlated Rows with Pearson, Spearman, and Cosine Correlations:\n",
      "Row 142: Pearson Correlation = 0.9656, Spearman Correlation = 0.95552, Cosine Similarity = 0.96757\n",
      "Row 215: Pearson Correlation = 0.94713, Spearman Correlation = 0.88771, Cosine Similarity = 0.94204\n",
      "Row 23: Pearson Correlation = 0.9237, Spearman Correlation = 0.7859, Cosine Similarity = 0.92222\n"
     ]
    }
   ],
   "source": [
    "# FINAL PAIRWISE CORRELATION PROTOTYPE (\"EITHER / OR\" METHOD WITH COSINE)\n",
    "def find_correlated_rows(user_input_row):\n",
    "    pearson_correlations = []\n",
    "    spearman_correlations = []\n",
    "    cosine_correlations = []\n",
    "    \n",
    "    user_row = df_normalized.iloc[user_input_row]\n",
    "    num_rows = len(df_normalized)\n",
    "    \n",
    "    for i in range(num_rows):\n",
    "        if i != user_input_row:\n",
    "            compared_row = df_normalized.iloc[i]\n",
    "            \n",
    "            pearson_corr, _ = pearsonr(user_row, compared_row)\n",
    "            spearman_corr, _ = spearmanr(user_row, compared_row)\n",
    "            cosine_corr = 1 - cosine(user_row, compared_row)  # Cosine similarity\n",
    "            \n",
    "            pearson_correlations.append((i, pearson_corr))\n",
    "            spearman_correlations.append((i, spearman_corr))\n",
    "            cosine_correlations.append((i, cosine_corr))\n",
    "    \n",
    "    correlated_rows = [(i, p_corr, s_corr, c_corr) for i, (p_corr, s_corr, c_corr) in enumerate(zip(pearson_correlations, spearman_correlations, cosine_correlations)) if abs(p_corr[1]) > 0.9 or abs(s_corr[1]) > 0.9 or abs(c_corr[1]) > 0.9]\n",
    "    \n",
    "    return correlated_rows\n",
    "\n",
    "# Example usage:\n",
    "user_input = int(input(\"Enter the row number you'd like to investigate: \"))\n",
    "correlated_rows = find_correlated_rows(user_input)\n",
    "\n",
    "# Sort by the absolute value of Pearson correlation\n",
    "correlated_rows.sort(key=lambda x: max(abs(x[1][1]), abs(x[2][1]), abs(x[3][1])), reverse=True)\n",
    "\n",
    "# Display the results\n",
    "print(f\"Original User Input Row: {user_input}\")\n",
    "print(f\"Total Quantity of Correlated Rows: {len(correlated_rows)}\")\n",
    "print(\"Correlated Rows with Pearson, Spearman, and Cosine Correlations:\")\n",
    "for row_num, pearson_corr, spearman_corr, cosine_corr in correlated_rows:\n",
    "    pearson_corr = round(pearson_corr[1], 5)\n",
    "    spearman_corr = round(spearman_corr[1], 5)\n",
    "    cosine_corr = round(cosine_corr[1], 5)\n",
    "    print(f\"Row {row_num}: Pearson Correlation = {pearson_corr}, Spearman Correlation = {spearman_corr}, Cosine Similarity = {cosine_corr}\")\n"
   ]
  },
  {
   "cell_type": "code",
   "execution_count": 10,
   "id": "f76fc627-557d-43ad-8d29-880ae3ac352f",
   "metadata": {
    "tags": []
   },
   "outputs": [
    {
     "name": "stdin",
     "output_type": "stream",
     "text": [
      "Enter the row number you'd like to investigate:  333\n"
     ]
    },
    {
     "name": "stdout",
     "output_type": "stream",
     "text": [
      "Original User Input Row: 333\n",
      "Total Quantity of Correlated Rows: 1\n",
      "Correlated Rows with Pearson, Spearman, and Cosine Correlations:\n",
      "Row 142: Pearson Correlation = 0.9656, Spearman Correlation = 0.95552, Cosine Similarity = 0.96757\n"
     ]
    }
   ],
   "source": [
    "# FINAL PAIRWISE CORRELATION PROTOTYPE (\"AND\" METHOD WITH COSINE)\n",
    "def find_correlated_rows(user_input_row):\n",
    "    pearson_correlations = []\n",
    "    spearman_correlations = []\n",
    "    cosine_correlations = []\n",
    "    \n",
    "    user_row = df_normalized.iloc[user_input_row]\n",
    "    num_rows = len(df_normalized)\n",
    "    \n",
    "    for i in range(num_rows):\n",
    "        if i != user_input_row:\n",
    "            compared_row = df_normalized.iloc[i]\n",
    "            \n",
    "            pearson_corr, _ = pearsonr(user_row, compared_row)\n",
    "            spearman_corr, _ = spearmanr(user_row, compared_row)\n",
    "            cosine_corr = 1 - cosine(user_row, compared_row)  # Cosine similarity\n",
    "            \n",
    "            pearson_correlations.append((i, pearson_corr))\n",
    "            spearman_correlations.append((i, spearman_corr))\n",
    "            cosine_correlations.append((i, cosine_corr))\n",
    "    \n",
    "    correlated_rows = [(i, p_corr, s_corr, c_corr) for i, (p_corr, s_corr, c_corr) in enumerate(zip(pearson_correlations, spearman_correlations, cosine_correlations)) if abs(p_corr[1]) > 0.9 and abs(s_corr[1]) > 0.9 and abs(c_corr[1]) > 0.9]\n",
    "    \n",
    "    return correlated_rows\n",
    "\n",
    "# Example usage:\n",
    "user_input = int(input(\"Enter the row number you'd like to investigate: \"))\n",
    "correlated_rows = find_correlated_rows(user_input)\n",
    "\n",
    "# Sort by the absolute value of Pearson correlation\n",
    "correlated_rows.sort(key=lambda x: max(abs(x[1][1]), abs(x[2][1]), abs(x[3][1])), reverse=True)\n",
    "\n",
    "# Display the results\n",
    "print(f\"Original User Input Row: {user_input}\")\n",
    "print(f\"Total Quantity of Correlated Rows: {len(correlated_rows)}\")\n",
    "print(\"Correlated Rows with Pearson, Spearman, and Cosine Correlations:\")\n",
    "for row_num, pearson_corr, spearman_corr, cosine_corr in correlated_rows:\n",
    "    pearson_corr = round(pearson_corr[1], 5)\n",
    "    spearman_corr = round(spearman_corr[1], 5)\n",
    "    cosine_corr = round(cosine_corr[1], 5)\n",
    "    print(f\"Row {row_num}: Pearson Correlation = {pearson_corr}, Spearman Correlation = {spearman_corr}, Cosine Similarity = {cosine_corr}\")"
   ]
  },
  {
   "cell_type": "code",
   "execution_count": 11,
   "id": "b0f01a91-b8c2-4c6e-8377-8d852b638c6b",
   "metadata": {
    "tags": []
   },
   "outputs": [
    {
     "name": "stdin",
     "output_type": "stream",
     "text": [
      "Enter the row number you'd like to investigate:  333\n"
     ]
    },
    {
     "name": "stdout",
     "output_type": "stream",
     "text": [
      "Original User Input Row: 333\n",
      "Total Quantity of Correlated Rows: 2\n",
      "Correlated Rows with Pearson, Spearman, and Cosine Correlations:\n",
      "Row 142: Average Correlation = 0.9629, Pearson Correlation = 0.9656, Spearman Correlation = 0.95552, Cosine Similarity = 0.96757\n",
      "Row 215: Average Correlation = 0.92563, Pearson Correlation = 0.94713, Spearman Correlation = 0.88771, Cosine Similarity = 0.94204\n"
     ]
    }
   ],
   "source": [
    "# FINAL PAIRWISE CORRELATION PROTOTYPE (\"AVERAGE\" METHOD WITH COSINE)\n",
    "def find_correlated_rows(user_input_row):\n",
    "    pearson_correlations = []\n",
    "    spearman_correlations = []\n",
    "    cosine_correlations = []\n",
    "    \n",
    "    user_row = df_normalized.iloc[user_input_row]\n",
    "    num_rows = len(df_normalized)\n",
    "    \n",
    "    for i in range(num_rows):\n",
    "        if i != user_input_row:\n",
    "            compared_row = df_normalized.iloc[i]\n",
    "            \n",
    "            pearson_corr, _ = pearsonr(user_row, compared_row)\n",
    "            spearman_corr, _ = spearmanr(user_row, compared_row)\n",
    "            cosine_corr = 1 - cosine(user_row, compared_row)  # Cosine similarity\n",
    "            \n",
    "            pearson_correlations.append((i, pearson_corr))\n",
    "            spearman_correlations.append((i, spearman_corr))\n",
    "            cosine_correlations.append((i, cosine_corr))\n",
    "    \n",
    "    correlated_rows = [(i, p_corr, s_corr, c_corr) for i, (p_corr, s_corr, c_corr) in enumerate(zip(pearson_correlations, spearman_correlations, cosine_correlations)) if (abs(p_corr[1]) + abs(s_corr[1]) + abs(c_corr[1])) / 3 > 0.9]\n",
    "    \n",
    "    return correlated_rows\n",
    "\n",
    "# Example usage:\n",
    "user_input = int(input(\"Enter the row number you'd like to investigate: \"))\n",
    "correlated_rows = find_correlated_rows(user_input)\n",
    "\n",
    "# Sort by the average of absolute values of Pearson, Spearman, and Cosine correlations\n",
    "correlated_rows.sort(key=lambda x: (abs(x[1][1]) + abs(x[2][1]) + abs(x[3][1])) / 3, reverse=True)\n",
    "\n",
    "# Display the results\n",
    "print(f\"Original User Input Row: {user_input}\")\n",
    "print(f\"Total Quantity of Correlated Rows: {len(correlated_rows)}\")\n",
    "print(\"Correlated Rows with Pearson, Spearman, and Cosine Correlations:\")\n",
    "for row_num, pearson_corr, spearman_corr, cosine_corr in correlated_rows:\n",
    "    avg_corr = round((abs(pearson_corr[1]) + abs(spearman_corr[1]) + abs(cosine_corr[1])) / 3, 5)\n",
    "    pearson_corr = round(pearson_corr[1], 5)\n",
    "    spearman_corr = round(spearman_corr[1], 5)\n",
    "    cosine_corr = round(cosine_corr[1], 5)\n",
    "    print(f\"Row {row_num}: Average Correlation = {avg_corr}, Pearson Correlation = {pearson_corr}, Spearman Correlation = {spearman_corr}, Cosine Similarity = {cosine_corr}\")"
   ]
  },
  {
   "cell_type": "code",
   "execution_count": null,
   "id": "215f79b1-34e1-4a5b-bca8-6190c81288cc",
   "metadata": {},
   "outputs": [],
   "source": []
  }
 ],
 "metadata": {
  "kernelspec": {
   "display_name": "Python 3 (ipykernel)",
   "language": "python",
   "name": "python3"
  },
  "language_info": {
   "codemirror_mode": {
    "name": "ipython",
    "version": 3
   },
   "file_extension": ".py",
   "mimetype": "text/x-python",
   "name": "python",
   "nbconvert_exporter": "python",
   "pygments_lexer": "ipython3",
   "version": "3.11.3"
  }
 },
 "nbformat": 4,
 "nbformat_minor": 5
}
